{
 "cells": [
  {
   "cell_type": "markdown",
   "metadata": {},
   "source": [
    "<h2 style=\"display: flex; justify-content: space-between; align-items: center;\">\n",
    "    <span>Exercise 5c</span>\n",
    "    <span>Date: 22/01/2025</span>\n",
    "</h2>"
   ]
  },
  {
   "cell_type": "markdown",
   "metadata": {},
   "source": [
    "<h2 style=\"text-align:center;\">Outlier Detection</h2>"
   ]
  },
  {
   "cell_type": "markdown",
   "metadata": {},
   "source": [
    "### <ins>**Aim:**</ins> To detect outliers in a dataset using the Interquartile Range (IQR) method and visualize them using a scatter plot."
   ]
  },
  {
   "cell_type": "markdown",
   "metadata": {},
   "source": [
    "### <ins>**Algorithm:**</ins>"
   ]
  },
  {
   "cell_type": "markdown",
   "metadata": {},
   "source": [
    "Outlier detection refers to the process of identifying data points that significantly differ from the rest of the dataset.\n",
    "\n",
    "One common method of outlier detection is using the Interquartile Range (IQR). \n",
    "\n",
    "**Calculate the Interquartile Range (IQR):**\n",
    "The IQR is the difference between the third quartile (Q3) and the first quartile (Q1). It measures the spread of the middle 50% of the data.\n",
    "\n",
    "$$\n",
    "\\text{IQR} = Q3 - Q1\n",
    "$$\n",
    "\n",
    "**Determine the lower and upper bounds for outliers:**\n",
    "Outliers are defined as data points that lie below the lower bound or above the upper bound. These bounds are calculated as:\n",
    "\n",
    "- **Lower Bound:** \n",
    "$$\n",
    "\\text{Lower Bound} = Q1 - 1.5 \\times \\text{IQR}\n",
    "$$\n",
    "\n",
    "- **Upper Bound:** \n",
    "$$\n",
    "\\text{Upper Bound} = Q3 + 1.5 \\times \\text{IQR}\n",
    "$$\n",
    "\n",
    "**Identify outliers:**\n",
    "Any data point that is less than the lower bound or greater than the upper bound is considered an outlier. These points are usually isolated and significantly different from the majority of the dataset.\n"
   ]
  },
  {
   "cell_type": "markdown",
   "metadata": {},
   "source": [
    "Step 1: Import Libraries\n",
    "\n",
    "- Import necessary Python libraries such as pandas for data manipulation, numpy for numerical operations, and matplotlib for visualization.\n",
    "\n",
    "Step 2: Generate the Dataset\n",
    "\n",
    "- Create a sample dataset using `numpy.random.randn()` to generate random data points and introduce outliers using `numpy.random.uniform()`.\n",
    "\n",
    "Step 3: Prepare the Data\n",
    "\n",
    "- Convert the data into a pandas DataFrame for easier manipulation and visualization. This allows for better handling of outliers and feature selection.\n",
    "\n",
    "Step 4: Calculate the Quartiles\n",
    "\n",
    "- Calculate the 25th percentile (Q1) and the 75th percentile (Q3) of the data using the `quantile()` function of pandas.\n",
    "  \n",
    "Step 5: Calculate the Interquartile Range (IQR)\n",
    "\n",
    "- Calculate the IQR as the difference between Q3 and Q1:\n",
    "  \n",
    "$$\n",
    "\\text{IQR} = Q3 - Q1\n",
    "$$\n",
    "\n",
    "Step 6: Determine Lower and Upper Bounds for Outliers\n",
    "\n",
    "- Calculate the lower and upper bounds using the IQR:\n",
    "  \n",
    "- Lower Bound: \n",
    "$$\n",
    "\\text{Lower Bound} = Q1 - 1.5 \\times \\text{IQR}\n",
    "$$\n",
    "\n",
    "- Upper Bound:\n",
    "$$\n",
    "\\text{Upper Bound} = Q3 + 1.5 \\times \\text{IQR}\n",
    "$$\n",
    "\n",
    "Step 7: Identify the Outliers\n",
    "\n",
    "- Identify data points that fall outside of the lower and upper bounds as outliers. These are points that are significantly different from the majority of the dataset.\n",
    "\n",
    "Step 8: Visualize the Data\n",
    "\n",
    "- Plot the data points using `matplotlib` where inliers are shown in one color and outliers are shown in another color, visually identifying the outliers in the dataset."
   ]
  },
  {
   "cell_type": "markdown",
   "metadata": {},
   "source": [
    "### Import necessary libraries"
   ]
  },
  {
   "cell_type": "code",
   "execution_count": 24,
   "metadata": {},
   "outputs": [],
   "source": [
    "import pandas as pd\n",
    "import numpy as np\n",
    "import matplotlib.pyplot as plt"
   ]
  },
  {
   "cell_type": "markdown",
   "metadata": {},
   "source": [
    "### Generate a sample dataset"
   ]
  },
  {
   "cell_type": "code",
   "execution_count": 25,
   "metadata": {},
   "outputs": [],
   "source": [
    "np.random.seed(42)\n",
    "data = np.random.randn(700, 2) * 10 + 50"
   ]
  },
  {
   "cell_type": "code",
   "execution_count": 26,
   "metadata": {},
   "outputs": [],
   "source": [
    "outliers = np.random.uniform(low=20, high=80, size=(10, 2))  # 10 random outliers\n",
    "data_with_outliers = np.vstack([data, outliers])"
   ]
  },
  {
   "cell_type": "markdown",
   "metadata": {},
   "source": [
    "### Convert data to DataFrame "
   ]
  },
  {
   "cell_type": "code",
   "execution_count": 27,
   "metadata": {},
   "outputs": [],
   "source": [
    "df = pd.DataFrame(data_with_outliers, columns=['Feature1', 'Feature2'])"
   ]
  },
  {
   "cell_type": "code",
   "execution_count": 28,
   "metadata": {},
   "outputs": [
    {
     "data": {
      "text/html": [
       "<div>\n",
       "<style scoped>\n",
       "    .dataframe tbody tr th:only-of-type {\n",
       "        vertical-align: middle;\n",
       "    }\n",
       "\n",
       "    .dataframe tbody tr th {\n",
       "        vertical-align: top;\n",
       "    }\n",
       "\n",
       "    .dataframe thead th {\n",
       "        text-align: right;\n",
       "    }\n",
       "</style>\n",
       "<table border=\"1\" class=\"dataframe\">\n",
       "  <thead>\n",
       "    <tr style=\"text-align: right;\">\n",
       "      <th></th>\n",
       "      <th>Feature1</th>\n",
       "      <th>Feature2</th>\n",
       "    </tr>\n",
       "  </thead>\n",
       "  <tbody>\n",
       "    <tr>\n",
       "      <th>0</th>\n",
       "      <td>54.967142</td>\n",
       "      <td>48.617357</td>\n",
       "    </tr>\n",
       "    <tr>\n",
       "      <th>1</th>\n",
       "      <td>56.476885</td>\n",
       "      <td>65.230299</td>\n",
       "    </tr>\n",
       "    <tr>\n",
       "      <th>2</th>\n",
       "      <td>47.658466</td>\n",
       "      <td>47.658630</td>\n",
       "    </tr>\n",
       "    <tr>\n",
       "      <th>3</th>\n",
       "      <td>65.792128</td>\n",
       "      <td>57.674347</td>\n",
       "    </tr>\n",
       "    <tr>\n",
       "      <th>4</th>\n",
       "      <td>45.305256</td>\n",
       "      <td>55.425600</td>\n",
       "    </tr>\n",
       "    <tr>\n",
       "      <th>...</th>\n",
       "      <td>...</td>\n",
       "      <td>...</td>\n",
       "    </tr>\n",
       "    <tr>\n",
       "      <th>705</th>\n",
       "      <td>37.726687</td>\n",
       "      <td>66.153389</td>\n",
       "    </tr>\n",
       "    <tr>\n",
       "      <th>706</th>\n",
       "      <td>57.479814</td>\n",
       "      <td>42.916378</td>\n",
       "    </tr>\n",
       "    <tr>\n",
       "      <th>707</th>\n",
       "      <td>32.341236</td>\n",
       "      <td>27.283185</td>\n",
       "    </tr>\n",
       "    <tr>\n",
       "      <th>708</th>\n",
       "      <td>56.900778</td>\n",
       "      <td>66.478027</td>\n",
       "    </tr>\n",
       "    <tr>\n",
       "      <th>709</th>\n",
       "      <td>58.634255</td>\n",
       "      <td>51.818128</td>\n",
       "    </tr>\n",
       "  </tbody>\n",
       "</table>\n",
       "<p>710 rows × 2 columns</p>\n",
       "</div>"
      ],
      "text/plain": [
       "      Feature1   Feature2\n",
       "0    54.967142  48.617357\n",
       "1    56.476885  65.230299\n",
       "2    47.658466  47.658630\n",
       "3    65.792128  57.674347\n",
       "4    45.305256  55.425600\n",
       "..         ...        ...\n",
       "705  37.726687  66.153389\n",
       "706  57.479814  42.916378\n",
       "707  32.341236  27.283185\n",
       "708  56.900778  66.478027\n",
       "709  58.634255  51.818128\n",
       "\n",
       "[710 rows x 2 columns]"
      ]
     },
     "execution_count": 28,
     "metadata": {},
     "output_type": "execute_result"
    }
   ],
   "source": [
    "df"
   ]
  },
  {
   "cell_type": "markdown",
   "metadata": {},
   "source": [
    "### Calculate 25th and 75th percentile"
   ]
  },
  {
   "cell_type": "code",
   "execution_count": 29,
   "metadata": {},
   "outputs": [],
   "source": [
    "Q1 = df.quantile(0.25)\n",
    "Q3 = df.quantile(0.75)"
   ]
  },
  {
   "cell_type": "markdown",
   "metadata": {},
   "source": [
    "### Calculate Interquartile Range"
   ]
  },
  {
   "cell_type": "code",
   "execution_count": 30,
   "metadata": {},
   "outputs": [],
   "source": [
    "IQR = Q3 - Q1"
   ]
  },
  {
   "cell_type": "markdown",
   "metadata": {},
   "source": [
    "### Set lower and upper bounds for outliers"
   ]
  },
  {
   "cell_type": "code",
   "execution_count": 31,
   "metadata": {},
   "outputs": [],
   "source": [
    "lower_bound = Q1 - 1.5 * IQR\n",
    "upper_bound = Q3 + 1.5 * IQR"
   ]
  },
  {
   "cell_type": "markdown",
   "metadata": {},
   "source": [
    "### Identify the outliers"
   ]
  },
  {
   "cell_type": "code",
   "execution_count": 32,
   "metadata": {},
   "outputs": [],
   "source": [
    "outliers = (df < lower_bound) | (df > upper_bound)"
   ]
  },
  {
   "cell_type": "markdown",
   "metadata": {},
   "source": [
    "### Plot the graph"
   ]
  },
  {
   "cell_type": "code",
   "execution_count": 33,
   "metadata": {},
   "outputs": [
    {
     "data": {
      "image/png": "[encoded data removed]",
      "text/plain": [
       "<Figure size 800x600 with 1 Axes>"
      ]
     },
     "metadata": {},
     "output_type": "display_data"
    }
   ],
   "source": [
    "plt.figure(figsize=(8, 6))\n",
    "plt.scatter(df['Feature1'], df['Feature2'], color='blue', label='Inliers', s=50)\n",
    "plt.scatter(df[outliers['Feature1']]['Feature1'], df[outliers['Feature1']]['Feature2'], color='red', label='Outliers', s=50)\n",
    "plt.title('Outlier Detection using IQR')\n",
    "plt.xlabel('Feature1')\n",
    "plt.ylabel('Feature2')\n",
    "plt.legend()\n",
    "plt.show()"
   ]
  },
  {
   "cell_type": "code",
   "execution_count": 34,
   "metadata": {},
   "outputs": [
    {
     "name": "stdout",
     "output_type": "stream",
     "text": [
      "Outliers detected:\n",
      "      Feature1   Feature2\n",
      "37   23.802549  58.219025\n",
      "104  55.150477  88.527315\n",
      "131  17.587327  39.756124\n",
      "239  80.788808  61.195749\n",
      "323  23.031134  49.457051\n",
      "327  75.733598  50.592184\n",
      "334  23.490302  60.915069\n",
      "381  75.600845  49.039401\n",
      "530  57.716987  21.514574\n",
      "550  59.980101  21.037446\n",
      "673  24.460789  59.343199\n",
      "703  35.902786  21.256698\n",
      "704  24.930300  78.071602\n"
     ]
    }
   ],
   "source": [
    "outliers_data = df[outliers.any(axis=1)]\n",
    "print(\"Outliers detected:\")\n",
    "print(outliers_data)"
   ]
  },
  {
   "cell_type": "markdown",
   "metadata": {},
   "source": [
    "### Result"
   ]
  },
  {
   "cell_type": "markdown",
   "metadata": {},
   "source": [
    "Outlier detection was successfully performed on a dataset using the Interquartile Range (IQR) method.\n",
    "The identified outliers were isolated and visualized, highlighting 13 points as outliers."
   ]
  },
  {
   "cell_type": "markdown",
   "metadata": {},
   "source": [
    "---"
   ]
  }
 ],
 "metadata": {
  "kernelspec": {
   "display_name": "base",
   "language": "python",
   "name": "python3"
  },
  "language_info": {
   "codemirror_mode": {
    "name": "ipython",
    "version": 3
   },
   "file_extension": ".py",
   "mimetype": "text/x-python",
   "name": "python",
   "nbconvert_exporter": "python",
   "pygments_lexer": "ipython3",
   "version": "3.11.5"
  }
 },
 "nbformat": 4,
 "nbformat_minor": 2
}
